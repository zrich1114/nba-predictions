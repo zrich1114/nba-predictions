{
 "cells": [
  {
   "cell_type": "code",
   "execution_count": null,
   "metadata": {},
   "outputs": [],
   "source": [
    "from nba_api.stats.endpoints import leaguegamefinder\n",
    "import pandas as pd\n",
    "\n",
    "# Find games for a specific season\n",
    "gamefinder = leaguegamefinder.LeagueGameFinder(season_nullable='2022-23')\n",
    "games_dict = gamefinder.get_normalized_dict()\n",
    "games_df = pd.DataFrame(games_dict['LeagueGameFinderResults'])\n",
    "\n",
    "print(games_df.head())"
   ]
  },
  {
   "cell_type": "code",
   "execution_count": 5,
   "metadata": {},
   "outputs": [
    {
     "name": "stdout",
     "output_type": "stream",
     "text": [
      "   PLAYER_ID SEASON_ID LEAGUE_ID     TEAM_ID TEAM_ABBREVIATION  PLAYER_AGE  \\\n",
      "0     203999   2015-16        00  1610612743               DEN        21.0   \n",
      "1     203999   2016-17        00  1610612743               DEN        22.0   \n",
      "2     203999   2017-18        00  1610612743               DEN        23.0   \n",
      "3     203999   2018-19        00  1610612743               DEN        24.0   \n",
      "4     203999   2019-20        00  1610612743               DEN        25.0   \n",
      "\n",
      "   GP  GS     MIN  FGM  ...  FT_PCT  OREB  DREB  REB  AST  STL  BLK  TOV   PF  \\\n",
      "0  80  55  1733.0  307  ...   0.811   181   379  560  189   79   50  104  208   \n",
      "1  73  59  2038.0  494  ...   0.825   212   506  718  359   61   55  171  214   \n",
      "2  75  73  2443.0  504  ...   0.850   195   608  803  458   90   61  210  212   \n",
      "3  80  80  2504.0  616  ...   0.821   228   637  865  580  108   55  248  228   \n",
      "4  73  73  2335.0  565  ...   0.817   166   545  711  512   85   44  226  222   \n",
      "\n",
      "    PTS  \n",
      "0   796  \n",
      "1  1221  \n",
      "2  1385  \n",
      "3  1604  \n",
      "4  1456  \n",
      "\n",
      "[5 rows x 27 columns]\n"
     ]
    }
   ],
   "source": [
    "from nba_api.stats.endpoints import playercareerstats\n",
    "\n",
    "career = playercareerstats.PlayerCareerStats(player_id='203999') \n",
    "\n",
    "career_df = career.get_data_frames()[0]\n",
    "\n",
    "career_df.to_csv(\"../data/player.csv\")\n",
    "\n",
    "print(career_df.head())"
   ]
  }
 ],
 "metadata": {
  "kernelspec": {
   "display_name": ".venv",
   "language": "python",
   "name": "python3"
  },
  "language_info": {
   "codemirror_mode": {
    "name": "ipython",
    "version": 3
   },
   "file_extension": ".py",
   "mimetype": "text/x-python",
   "name": "python",
   "nbconvert_exporter": "python",
   "pygments_lexer": "ipython3",
   "version": "3.11.7"
  }
 },
 "nbformat": 4,
 "nbformat_minor": 2
}
